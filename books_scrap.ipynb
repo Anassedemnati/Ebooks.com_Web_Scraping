{
 "cells": [
  {
   "cell_type": "markdown",
   "metadata": {},
   "source": [
    "#### Step 1 - Imports"
   ]
  },
  {
   "cell_type": "code",
   "execution_count": 3,
   "metadata": {},
   "outputs": [],
   "source": [
    "import requests\n",
    "import pandas as pd"
   ]
  },
  {
   "cell_type": "markdown",
   "metadata": {},
   "source": [
    "#### Step 2 - Requests & CURL"
   ]
  },
  {
   "cell_type": "code",
   "execution_count": 1,
   "metadata": {},
   "outputs": [],
   "source": [
    "\n",
    "\n",
    "params = (\n",
    "    ('subjectId', '13'),\n",
    "    ('pageNumber', '1'),\n",
    "    ('countryCode', 'MA'),\n",
    ")\n",
    "\n",
    "response = requests.get('https://www.ebooks.com/api/search/subject/', params=params)\n",
    "\n"
   ]
  },
  {
   "cell_type": "markdown",
   "metadata": {},
   "source": [
    "#### Step 3 - Check Status Code"
   ]
  },
  {
   "cell_type": "code",
   "execution_count": 4,
   "metadata": {},
   "outputs": [
    {
     "data": {
      "text/plain": [
       "<Response [200]>"
      ]
     },
     "execution_count": 4,
     "metadata": {},
     "output_type": "execute_result"
    }
   ],
   "source": [
    "response"
   ]
  },
  {
   "cell_type": "markdown",
   "metadata": {},
   "source": [
    "#### Step 4 - Create Json Object"
   ]
  },
  {
   "cell_type": "code",
   "execution_count": 5,
   "metadata": {},
   "outputs": [
    {
     "data": {
      "text/plain": [
       "{'pages': [{'number': '1',\n",
       "   'is_selected': True,\n",
       "   'show_mobile': True,\n",
       "   'show_tablet': True,\n",
       "   'search_url': '/en-ma/subjects/computers/'},\n",
       "  {'number': '2',\n",
       "   'is_selected': False,\n",
       "   'show_mobile': True,\n",
       "   'show_tablet': True,\n",
       "   'search_url': '/en-ma/subjects/computers/?pageNumber=2'},\n",
       "  {'number': '3',\n",
       "   'is_selected': False,\n",
       "   'show_mobile': True,\n",
       "   'show_tablet': True,\n",
       "   'search_url': '/en-ma/subjects/computers/?pageNumber=3'},\n",
       "  {'number': '4',\n",
       "   'is_selected': False,\n",
       "   'show_mobile': True,\n",
       "   'show_tablet': True,\n",
       "   'search_url': '/en-ma/subjects/computers/?pageNumber=4'},\n",
       "  {'number': '5',\n",
       "   'is_selected': False,\n",
       "   'show_mobile': True,\n",
       "   'show_tablet': True,\n",
       "   'search_url': '/en-ma/subjects/computers/?pageNumber=5'},\n",
       "  {'number': '6',\n",
       "   'is_selected': False,\n",
       "   'show_mobile': False,\n",
       "   'show_tablet': True,\n",
       "   'search_url': '/en-ma/subjects/computers/?pageNumber=6'},\n",
       "  {'number': '7',\n",
       "   'is_selected': False,\n",
       "   'show_mobile': False,\n",
       "   'show_tablet': True,\n",
       "   'search_url': '/en-ma/subjects/computers/?pageNumber=7'},\n",
       "  {'number': '8',\n",
       "   'is_selected': False,\n",
       "   'show_mobile': False,\n",
       "   'show_tablet': True,\n",
       "   'search_url': '/en-ma/subjects/computers/?pageNumber=8'},\n",
       "  {'number': '9',\n",
       "   'is_selected': False,\n",
       "   'show_mobile': False,\n",
       "   'show_tablet': False,\n",
       "   'search_url': '/en-ma/subjects/computers/?pageNumber=9'}],\n",
       " 'previous_page': None,\n",
       " 'next_page': '/en-ma/subjects/computers/?pageNumber=2',\n",
       " 'books': [{'id': 589081,\n",
       "   'book_url': '/en-ma/book/589081/the-dragonfly-effect/jennifer-aaker/',\n",
       "   'image_url': 'https://image.ebooks.com/previews/000/000589/000589081/000589081-sml-1.jpg',\n",
       "   'image_alt_tag': 'The Dragonfly Effect: Quick, Effective, and Powerful Ways To Use Social Media to Drive Social Change',\n",
       "   'title': 'The Dragonfly Effect',\n",
       "   'edition': '',\n",
       "   'subtitle': 'Quick, Effective, and Powerful Ways To Use Social Media to Drive Social Change',\n",
       "   'authors': [{'author_name': 'Jennifer Aaker',\n",
       "     'author_url': '/en-ma/author/jennifer-aaker/264487/'},\n",
       "    {'author_name': 'Andy Smith',\n",
       "     'author_url': '/en-ma/author/andy-smith/36949/'}],\n",
       "   'num_authors': 5,\n",
       "   'series': ' Series',\n",
       "   'series_number': '',\n",
       "   'has_series': False,\n",
       "   'series_url': '',\n",
       "   'publisher': 'Wiley',\n",
       "   'publication_year': '2010',\n",
       "   'price': 'US$22.99',\n",
       "   'desktop_short_description': 'Proven strategies for harnessing the power of social media to drive social change   Many books teach the mechanics of using Facebook, Twitter, and YouTube to compete in business. But no book addresses how to harness the incredible power of social media to make a difference.  The Dragonfly Effect  shows you how to tap social media and consumer...',\n",
       "   'mobile_short_description': 'Proven strategies for harnessing the power of social media to drive social change   Many books teach...',\n",
       "   'is_preorder': False,\n",
       "   'is_available': True,\n",
       "   'preorder_url': '/account/preorder/?bookId=589081',\n",
       "   'add_to_cart_url': '/cart/add/589081/',\n",
       "   'currency_symbol': 'US$',\n",
       "   'price_number': 25.95},\n",
       "  {'id': 210124083,\n",
       "   'book_url': '/en-ma/book/210124083/comptia-security-sy0-601-exam-cram/martin-m-weiss/',\n",
       "   'image_url': 'https://image.ebooks.com/previews/210/210124/210124083/210124083-sml-1.jpg',\n",
       "   'image_alt_tag': 'CompTIA Security&#x2B; SY0-601 Exam Cram',\n",
       "   'title': 'CompTIA Security+ SY0-601 Exam Cram',\n",
       "   'edition': ' (6th ed.)',\n",
       "   'subtitle': '',\n",
       "   'authors': [{'author_name': 'Martin M. Weiss',\n",
       "     'author_url': '/en-ma/author/martin-m.-weiss/94214231/'}],\n",
       "   'num_authors': 1,\n",
       "   'series': ' Series',\n",
       "   'series_number': '',\n",
       "   'has_series': False,\n",
       "   'series_url': '',\n",
       "   'publisher': 'Pearson Education',\n",
       "   'publication_year': '2020',\n",
       "   'price': 'US$35.99',\n",
       "   'desktop_short_description': 'CompTIA® Security+ SY0-601 Exam Cram,  is the perfect study guide to help you pass the newly updated version of the CompTIA Security+ exam. It provides coverage and practice questions for every exam topic. Extensive prep tools include quizzes, Exam Alerts, and our essential last-minute review Cram Sheet. The powerful Pearson Test Prep practice...',\n",
       "   'mobile_short_description': 'CompTIA® Security+ SY0-601 Exam Cram,  is the perfect study guide to help you pass the newly updated...',\n",
       "   'is_preorder': False,\n",
       "   'is_available': True,\n",
       "   'preorder_url': '/account/preorder/?bookId=210124083',\n",
       "   'add_to_cart_url': '/cart/add/210124083/',\n",
       "   'currency_symbol': 'US$',\n",
       "   'price_number': 35.99},\n",
       "  {'id': 209980266,\n",
       "   'book_url': '/en-ma/book/209980266/effective-seo-and-content-marketing/nicholas-papagiannis/',\n",
       "   'image_url': 'https://image.ebooks.com/previews/209/209980/209980266/209980266-sml-1.jpg',\n",
       "   'image_alt_tag': 'Effective SEO and Content Marketing: The Ultimate Guide for Maximizing Free Web Traffic',\n",
       "   'title': 'Effective SEO and Content Marketing',\n",
       "   'edition': '',\n",
       "   'subtitle': 'The Ultimate Guide for Maximizing Free Web Traffic',\n",
       "   'authors': [{'author_name': 'Nicholas Papagiannis',\n",
       "     'author_url': '/en-ma/author/nicholas-papagiannis/208382552/'}],\n",
       "   'num_authors': 1,\n",
       "   'series': ' Series',\n",
       "   'series_number': '',\n",
       "   'has_series': False,\n",
       "   'series_url': '',\n",
       "   'publisher': 'Wiley',\n",
       "   'publication_year': '2020',\n",
       "   'price': 'US$39.50',\n",
       "   'desktop_short_description': 'Get beyond the basics and see how modern-day users are reimaging the SEO process    SEO is often underutilized and overlooked across the marketing realm today. SEO is not merely trying to improve your website ranking on Google, but it can spark and optimize ideas.\\xa0 Above all it can help improve the amount of free traffic coming to your web...',\n",
       "   'mobile_short_description': 'Get beyond the basics and see how modern-day users are reimaging the SEO process    SEO is often...',\n",
       "   'is_preorder': False,\n",
       "   'is_available': True,\n",
       "   'preorder_url': '/account/preorder/?bookId=209980266',\n",
       "   'add_to_cart_url': '/cart/add/209980266/',\n",
       "   'currency_symbol': 'US$',\n",
       "   'price_number': 45.0},\n",
       "  {'id': 95802408,\n",
       "   'book_url': '/en-ma/book/95802408/modern-recording-techniques/david-miles-huber/',\n",
       "   'image_url': 'https://image.ebooks.com/previews/095/095802/095802408/095802408-sml-1.jpg',\n",
       "   'image_alt_tag': 'Modern Recording Techniques',\n",
       "   'title': 'Modern Recording Techniques',\n",
       "   'edition': ' (9th ed.)',\n",
       "   'subtitle': '',\n",
       "   'authors': [{'author_name': 'David Miles Huber',\n",
       "     'author_url': '/en-ma/author/david-miles-huber/53937/'},\n",
       "    {'author_name': 'Robert E. Runstein',\n",
       "     'author_url': '/en-ma/author/robert-e.-runstein/239207/'}],\n",
       "   'num_authors': 2,\n",
       "   'series': 'ISSN Series',\n",
       "   'series_number': '',\n",
       "   'has_series': True,\n",
       "   'series_url': 'https://www.ebooks.com/en-ma/series/issn/',\n",
       "   'publisher': 'Taylor and Francis',\n",
       "   'publication_year': '2017',\n",
       "   'price': 'US$52.57',\n",
       "   'desktop_short_description': 'Modern Recording Techniques is the bestselling, authoritative guide to sound and music recording. Whether you’re just starting out or are looking for a step-up in the industry,  Modern Recording Techniques  provides an in-depth read on the art and technologies of music production. It’s a must-have reference for all audio bookshelves. Using its...',\n",
       "   'mobile_short_description': 'Modern Recording Techniques is the bestselling, authoritative guide to sound and music recording....',\n",
       "   'is_preorder': False,\n",
       "   'is_available': True,\n",
       "   'preorder_url': '/account/preorder/?bookId=95802408',\n",
       "   'add_to_cart_url': '/cart/add/95802408/',\n",
       "   'currency_symbol': 'US$',\n",
       "   'price_number': 52.57017801},\n",
       "  {'id': 209774656,\n",
       "   'book_url': '/en-ma/book/209774656/no-filter/sarah-frier/',\n",
       "   'image_url': 'https://image.ebooks.com/previews/209/209774/209774656/209774656-sml-1.jpg',\n",
       "   'image_alt_tag': 'No Filter: The Inside Story of Instagram &#x2013; Winner of the FT Business Book of the Year Award',\n",
       "   'title': 'No Filter',\n",
       "   'edition': '',\n",
       "   'subtitle': 'The Inside Story of Instagram – Winner of the FT Business Book of the Year Award',\n",
       "   'authors': [{'author_name': 'Sarah Frier',\n",
       "     'author_url': '/en-ma/author/sarah-frier/208257277/'}],\n",
       "   'num_authors': 1,\n",
       "   'series': ' Series',\n",
       "   'series_number': '',\n",
       "   'has_series': False,\n",
       "   'series_url': '',\n",
       "   'publisher': 'Random House',\n",
       "   'publication_year': '2020',\n",
       "   'price': 'US$14.09',\n",
       "   'desktop_short_description': \"Winner of the  FT  & McKinsey Business Book of the Year Award 2020     'Deeply researched and highly entertaining.'   The Times   'Lively and revealing.'   Economist   'Clear-eyed and objective.'   New York Times     The inside story of the how Instagram took over the world.    Drawing on interviews with all the key figures at Instagram,   No...\",\n",
       "   'mobile_short_description': \"Winner of the  FT  & McKinsey Business Book of the Year Award 2020     'Deeply researched and highly...\",\n",
       "   'is_preorder': False,\n",
       "   'is_available': True,\n",
       "   'preorder_url': '/account/preorder/?bookId=209774656',\n",
       "   'add_to_cart_url': '/cart/add/209774656/',\n",
       "   'currency_symbol': 'US$',\n",
       "   'price_number': 14.09},\n",
       "  {'id': 95640666,\n",
       "   'book_url': '/en-ma/book/95640666/python-data-science-handbook/jake-vanderplas/',\n",
       "   'image_url': 'https://image.ebooks.com/previews/095/095640/095640666/095640666-sml-1.jpg',\n",
       "   'image_alt_tag': 'Python Data Science Handbook: Essential Tools for Working with Data',\n",
       "   'title': 'Python Data Science Handbook',\n",
       "   'edition': '',\n",
       "   'subtitle': 'Essential Tools for Working with Data',\n",
       "   'authors': [{'author_name': 'Jake VanderPlas',\n",
       "     'author_url': '/en-ma/author/jake-vanderplas/1293677/'}],\n",
       "   'num_authors': 1,\n",
       "   'series': ' Series',\n",
       "   'series_number': '',\n",
       "   'has_series': False,\n",
       "   'series_url': '',\n",
       "   'publisher': \"O'Reilly Media\",\n",
       "   'publication_year': '2016',\n",
       "   'price': 'US$59.99',\n",
       "   'desktop_short_description': 'For many researchers, Python is a first-class tool mainly because of its libraries for storing, manipulating, and gaining insight from data. Several resources exist for individual pieces of this data science stack, but only with the Python Data Science Handbook do you get them all—IPython, NumPy, Pandas, Matplotlib, Scikit-Learn, and other related...',\n",
       "   'mobile_short_description': 'For many researchers, Python is a first-class tool mainly because of its libraries for storing,...',\n",
       "   'is_preorder': False,\n",
       "   'is_available': True,\n",
       "   'preorder_url': '/account/preorder/?bookId=95640666',\n",
       "   'add_to_cart_url': '/cart/add/95640666/',\n",
       "   'currency_symbol': 'US$',\n",
       "   'price_number': 59.99},\n",
       "  {'id': 209622672,\n",
       "   'book_url': '/en-ma/book/209622672/data-analyst/rune-rasmussen/',\n",
       "   'image_url': 'https://image.ebooks.com/previews/209/209622/209622672/209622672-sml-1.jpg',\n",
       "   'image_alt_tag': 'Data Analyst: Careers in data analysis',\n",
       "   'title': 'Data Analyst',\n",
       "   'edition': '',\n",
       "   'subtitle': 'Careers in data analysis',\n",
       "   'authors': [{'author_name': 'Rune Rasmussen',\n",
       "     'author_url': '/en-ma/author/rune-rasmussen/208214532/'},\n",
       "    {'author_name': 'Harish Gulati',\n",
       "     'author_url': '/en-ma/author/harish-gulati/208214531/'}],\n",
       "   'num_authors': 6,\n",
       "   'series': ' Series',\n",
       "   'series_number': '',\n",
       "   'has_series': False,\n",
       "   'series_url': '',\n",
       "   'publisher': 'BCS Learning & Development Limited',\n",
       "   'publication_year': '2019',\n",
       "   'price': 'US$25.99',\n",
       "   'desktop_short_description': 'With this book, aspiring data analysts will discover what data analysts do all day, what skills they will need for the role, and what regulations they will be required to adhere to. Practising data analysts can explore useful data analysis tools, methods and techniques, brush up on best practices and look at how they can advance their career.',\n",
       "   'mobile_short_description': 'With this book, aspiring data analysts will discover what data analysts do all day, what skills they...',\n",
       "   'is_preorder': False,\n",
       "   'is_available': True,\n",
       "   'preorder_url': '/account/preorder/?bookId=209622672',\n",
       "   'add_to_cart_url': '/cart/add/209622672/',\n",
       "   'currency_symbol': 'US$',\n",
       "   'price_number': 25.99},\n",
       "  {'id': 817871,\n",
       "   'book_url': '/en-ma/book/817871/html-and-css/jon-duckett/',\n",
       "   'image_url': 'https://image.ebooks.com/previews/000/000817/000817871/000817871-sml-1.jpg',\n",
       "   'image_alt_tag': 'HTML and CSS: Design and Build Websites',\n",
       "   'title': 'HTML and CSS',\n",
       "   'edition': '',\n",
       "   'subtitle': 'Design and Build Websites',\n",
       "   'authors': [{'author_name': 'Jon Duckett',\n",
       "     'author_url': '/en-ma/author/jon-duckett/50444/'}],\n",
       "   'num_authors': 1,\n",
       "   'series': ' Series',\n",
       "   'series_number': '',\n",
       "   'has_series': False,\n",
       "   'series_url': '',\n",
       "   'publisher': 'Wiley',\n",
       "   'publication_year': '2011',\n",
       "   'price': 'US$26.50',\n",
       "   'desktop_short_description': 'A full-color introduction to the basics of HTML and CSS!   Every day, more and more people want to learn some HTML and CSS. Joining the professional web designers and programmers are new audiences who need to know a little bit of code at work (update a content management system or e-commerce store) and those who want to make their personal blogs...',\n",
       "   'mobile_short_description': 'A full-color introduction to the basics of HTML and CSS!   Every day, more and more people want to...',\n",
       "   'is_preorder': False,\n",
       "   'is_available': True,\n",
       "   'preorder_url': '/account/preorder/?bookId=817871',\n",
       "   'add_to_cart_url': '/cart/add/817871/',\n",
       "   'currency_symbol': 'US$',\n",
       "   'price_number': 29.99},\n",
       "  {'id': 95707582,\n",
       "   'book_url': '/en-ma/book/95707582/introduction-to-data-science/laura-igual/',\n",
       "   'image_url': 'https://image.ebooks.com/previews/095/095707/095707582/095707582-sml-1.jpg',\n",
       "   'image_alt_tag': 'Introduction to Data Science: A Python Approach to Concepts, Techniques and Applications',\n",
       "   'title': 'Introduction to Data Science',\n",
       "   'edition': '',\n",
       "   'subtitle': 'A Python Approach to Concepts, Techniques and Applications',\n",
       "   'authors': [{'author_name': 'Laura Igual',\n",
       "     'author_url': '/en-ma/author/laura-igual/1315722/'},\n",
       "    {'author_name': 'Santi Seguí',\n",
       "     'author_url': '/en-ma/author/santi-seguí/1315723/'}],\n",
       "   'num_authors': 9,\n",
       "   'series': 'Undergraduate Topics In Computer Science Series',\n",
       "   'series_number': '',\n",
       "   'has_series': True,\n",
       "   'series_url': 'https://www.ebooks.com/en-ma/series/undergraduate-topics-in-computer-science/',\n",
       "   'publisher': 'Springer International Publishing',\n",
       "   'publication_year': '2017',\n",
       "   'price': 'US$52.01',\n",
       "   'desktop_short_description': 'This accessible and classroom-tested textbook/reference presents an introduction to the fundamentals of the emerging and interdisciplinary field of data science. The coverage spans key concepts adopted from statistics and machine learning, useful techniques for graph analysis and parallel programming, and the practical application of data science...',\n",
       "   'mobile_short_description': 'This accessible and classroom-tested textbook/reference presents an introduction to the fundamentals...',\n",
       "   'is_preorder': False,\n",
       "   'is_available': True,\n",
       "   'preorder_url': '/account/preorder/?bookId=95707582',\n",
       "   'add_to_cart_url': '/cart/add/95707582/',\n",
       "   'currency_symbol': 'US$',\n",
       "   'price_number': 52.0142887},\n",
       "  {'id': 1895068,\n",
       "   'book_url': '/en-ma/book/1895068/patterns-principles-and-practices-of-domain-driven-design/scott-millett/',\n",
       "   'image_url': 'https://image.ebooks.com/previews/001/001895/001895068/001895068-sml-1.jpg',\n",
       "   'image_alt_tag': 'Patterns, Principles, and Practices of Domain-Driven Design',\n",
       "   'title': 'Patterns, Principles, and Practices of Domain-Driven Design',\n",
       "   'edition': '',\n",
       "   'subtitle': '',\n",
       "   'authors': [{'author_name': 'Scott Millett',\n",
       "     'author_url': '/en-ma/author/scott-millett/195586/'},\n",
       "    {'author_name': 'Nick Tune',\n",
       "     'author_url': '/en-ma/author/nick-tune/937971/'}],\n",
       "   'num_authors': 2,\n",
       "   'series': ' Series',\n",
       "   'series_number': '',\n",
       "   'has_series': False,\n",
       "   'series_url': '',\n",
       "   'publisher': 'Wiley',\n",
       "   'publication_year': '2015',\n",
       "   'price': 'US$52.99',\n",
       "   'desktop_short_description': 'Methods for managing complex software construction following the practices, principles and patterns of Domain-Driven Design with code examples in C#     This book presents the philosophy of Domain-Driven Design (DDD) in a down-to-earth and practical manner for experienced developers building applications for complex domains. A focus is placed on...',\n",
       "   'mobile_short_description': 'Methods for managing complex software construction following the practices, principles and patterns...',\n",
       "   'is_preorder': False,\n",
       "   'is_available': True,\n",
       "   'preorder_url': '/account/preorder/?bookId=1895068',\n",
       "   'add_to_cart_url': '/cart/add/1895068/',\n",
       "   'currency_symbol': 'US$',\n",
       "   'price_number': 59.99}],\n",
       " 'result_page_range': '1 - 10 of 77306 results'}"
      ]
     },
     "execution_count": 5,
     "metadata": {},
     "output_type": "execute_result"
    }
   ],
   "source": [
    "response.json()"
   ]
  },
  {
   "cell_type": "code",
   "execution_count": 6,
   "metadata": {},
   "outputs": [
    {
     "data": {
      "text/plain": [
       "dict"
      ]
     },
     "execution_count": 6,
     "metadata": {},
     "output_type": "execute_result"
    }
   ],
   "source": [
    "type(response.json())"
   ]
  },
  {
   "cell_type": "markdown",
   "metadata": {},
   "source": [
    "#### Step 5 - Output Keys"
   ]
  },
  {
   "cell_type": "code",
   "execution_count": 7,
   "metadata": {},
   "outputs": [
    {
     "data": {
      "text/plain": [
       "dict_keys(['pages', 'previous_page', 'next_page', 'books', 'result_page_range'])"
      ]
     },
     "execution_count": 7,
     "metadata": {},
     "output_type": "execute_result"
    }
   ],
   "source": [
    "response.json().keys()"
   ]
  },
  {
   "cell_type": "markdown",
   "metadata": {},
   "source": [
    "#### Step 6 - Find your Data"
   ]
  },
  {
   "cell_type": "code",
   "execution_count": null,
   "metadata": {},
   "outputs": [],
   "source": [
    "#titel\n",
    "#subtitele\n",
    "#author\n",
    "#publication year\n",
    "#price"
   ]
  },
  {
   "cell_type": "code",
   "execution_count": 8,
   "metadata": {},
   "outputs": [
    {
     "data": {
      "text/plain": [
       "[{'id': 589081,\n",
       "  'book_url': '/en-ma/book/589081/the-dragonfly-effect/jennifer-aaker/',\n",
       "  'image_url': 'https://image.ebooks.com/previews/000/000589/000589081/000589081-sml-1.jpg',\n",
       "  'image_alt_tag': 'The Dragonfly Effect: Quick, Effective, and Powerful Ways To Use Social Media to Drive Social Change',\n",
       "  'title': 'The Dragonfly Effect',\n",
       "  'edition': '',\n",
       "  'subtitle': 'Quick, Effective, and Powerful Ways To Use Social Media to Drive Social Change',\n",
       "  'authors': [{'author_name': 'Jennifer Aaker',\n",
       "    'author_url': '/en-ma/author/jennifer-aaker/264487/'},\n",
       "   {'author_name': 'Andy Smith',\n",
       "    'author_url': '/en-ma/author/andy-smith/36949/'}],\n",
       "  'num_authors': 5,\n",
       "  'series': ' Series',\n",
       "  'series_number': '',\n",
       "  'has_series': False,\n",
       "  'series_url': '',\n",
       "  'publisher': 'Wiley',\n",
       "  'publication_year': '2010',\n",
       "  'price': 'US$22.99',\n",
       "  'desktop_short_description': 'Proven strategies for harnessing the power of social media to drive social change   Many books teach the mechanics of using Facebook, Twitter, and YouTube to compete in business. But no book addresses how to harness the incredible power of social media to make a difference.  The Dragonfly Effect  shows you how to tap social media and consumer...',\n",
       "  'mobile_short_description': 'Proven strategies for harnessing the power of social media to drive social change   Many books teach...',\n",
       "  'is_preorder': False,\n",
       "  'is_available': True,\n",
       "  'preorder_url': '/account/preorder/?bookId=589081',\n",
       "  'add_to_cart_url': '/cart/add/589081/',\n",
       "  'currency_symbol': 'US$',\n",
       "  'price_number': 25.95},\n",
       " {'id': 210124083,\n",
       "  'book_url': '/en-ma/book/210124083/comptia-security-sy0-601-exam-cram/martin-m-weiss/',\n",
       "  'image_url': 'https://image.ebooks.com/previews/210/210124/210124083/210124083-sml-1.jpg',\n",
       "  'image_alt_tag': 'CompTIA Security&#x2B; SY0-601 Exam Cram',\n",
       "  'title': 'CompTIA Security+ SY0-601 Exam Cram',\n",
       "  'edition': ' (6th ed.)',\n",
       "  'subtitle': '',\n",
       "  'authors': [{'author_name': 'Martin M. Weiss',\n",
       "    'author_url': '/en-ma/author/martin-m.-weiss/94214231/'}],\n",
       "  'num_authors': 1,\n",
       "  'series': ' Series',\n",
       "  'series_number': '',\n",
       "  'has_series': False,\n",
       "  'series_url': '',\n",
       "  'publisher': 'Pearson Education',\n",
       "  'publication_year': '2020',\n",
       "  'price': 'US$35.99',\n",
       "  'desktop_short_description': 'CompTIA® Security+ SY0-601 Exam Cram,  is the perfect study guide to help you pass the newly updated version of the CompTIA Security+ exam. It provides coverage and practice questions for every exam topic. Extensive prep tools include quizzes, Exam Alerts, and our essential last-minute review Cram Sheet. The powerful Pearson Test Prep practice...',\n",
       "  'mobile_short_description': 'CompTIA® Security+ SY0-601 Exam Cram,  is the perfect study guide to help you pass the newly updated...',\n",
       "  'is_preorder': False,\n",
       "  'is_available': True,\n",
       "  'preorder_url': '/account/preorder/?bookId=210124083',\n",
       "  'add_to_cart_url': '/cart/add/210124083/',\n",
       "  'currency_symbol': 'US$',\n",
       "  'price_number': 35.99},\n",
       " {'id': 209980266,\n",
       "  'book_url': '/en-ma/book/209980266/effective-seo-and-content-marketing/nicholas-papagiannis/',\n",
       "  'image_url': 'https://image.ebooks.com/previews/209/209980/209980266/209980266-sml-1.jpg',\n",
       "  'image_alt_tag': 'Effective SEO and Content Marketing: The Ultimate Guide for Maximizing Free Web Traffic',\n",
       "  'title': 'Effective SEO and Content Marketing',\n",
       "  'edition': '',\n",
       "  'subtitle': 'The Ultimate Guide for Maximizing Free Web Traffic',\n",
       "  'authors': [{'author_name': 'Nicholas Papagiannis',\n",
       "    'author_url': '/en-ma/author/nicholas-papagiannis/208382552/'}],\n",
       "  'num_authors': 1,\n",
       "  'series': ' Series',\n",
       "  'series_number': '',\n",
       "  'has_series': False,\n",
       "  'series_url': '',\n",
       "  'publisher': 'Wiley',\n",
       "  'publication_year': '2020',\n",
       "  'price': 'US$39.50',\n",
       "  'desktop_short_description': 'Get beyond the basics and see how modern-day users are reimaging the SEO process    SEO is often underutilized and overlooked across the marketing realm today. SEO is not merely trying to improve your website ranking on Google, but it can spark and optimize ideas.\\xa0 Above all it can help improve the amount of free traffic coming to your web...',\n",
       "  'mobile_short_description': 'Get beyond the basics and see how modern-day users are reimaging the SEO process    SEO is often...',\n",
       "  'is_preorder': False,\n",
       "  'is_available': True,\n",
       "  'preorder_url': '/account/preorder/?bookId=209980266',\n",
       "  'add_to_cart_url': '/cart/add/209980266/',\n",
       "  'currency_symbol': 'US$',\n",
       "  'price_number': 45.0},\n",
       " {'id': 95802408,\n",
       "  'book_url': '/en-ma/book/95802408/modern-recording-techniques/david-miles-huber/',\n",
       "  'image_url': 'https://image.ebooks.com/previews/095/095802/095802408/095802408-sml-1.jpg',\n",
       "  'image_alt_tag': 'Modern Recording Techniques',\n",
       "  'title': 'Modern Recording Techniques',\n",
       "  'edition': ' (9th ed.)',\n",
       "  'subtitle': '',\n",
       "  'authors': [{'author_name': 'David Miles Huber',\n",
       "    'author_url': '/en-ma/author/david-miles-huber/53937/'},\n",
       "   {'author_name': 'Robert E. Runstein',\n",
       "    'author_url': '/en-ma/author/robert-e.-runstein/239207/'}],\n",
       "  'num_authors': 2,\n",
       "  'series': 'ISSN Series',\n",
       "  'series_number': '',\n",
       "  'has_series': True,\n",
       "  'series_url': 'https://www.ebooks.com/en-ma/series/issn/',\n",
       "  'publisher': 'Taylor and Francis',\n",
       "  'publication_year': '2017',\n",
       "  'price': 'US$52.57',\n",
       "  'desktop_short_description': 'Modern Recording Techniques is the bestselling, authoritative guide to sound and music recording. Whether you’re just starting out or are looking for a step-up in the industry,  Modern Recording Techniques  provides an in-depth read on the art and technologies of music production. It’s a must-have reference for all audio bookshelves. Using its...',\n",
       "  'mobile_short_description': 'Modern Recording Techniques is the bestselling, authoritative guide to sound and music recording....',\n",
       "  'is_preorder': False,\n",
       "  'is_available': True,\n",
       "  'preorder_url': '/account/preorder/?bookId=95802408',\n",
       "  'add_to_cart_url': '/cart/add/95802408/',\n",
       "  'currency_symbol': 'US$',\n",
       "  'price_number': 52.57017801},\n",
       " {'id': 209774656,\n",
       "  'book_url': '/en-ma/book/209774656/no-filter/sarah-frier/',\n",
       "  'image_url': 'https://image.ebooks.com/previews/209/209774/209774656/209774656-sml-1.jpg',\n",
       "  'image_alt_tag': 'No Filter: The Inside Story of Instagram &#x2013; Winner of the FT Business Book of the Year Award',\n",
       "  'title': 'No Filter',\n",
       "  'edition': '',\n",
       "  'subtitle': 'The Inside Story of Instagram – Winner of the FT Business Book of the Year Award',\n",
       "  'authors': [{'author_name': 'Sarah Frier',\n",
       "    'author_url': '/en-ma/author/sarah-frier/208257277/'}],\n",
       "  'num_authors': 1,\n",
       "  'series': ' Series',\n",
       "  'series_number': '',\n",
       "  'has_series': False,\n",
       "  'series_url': '',\n",
       "  'publisher': 'Random House',\n",
       "  'publication_year': '2020',\n",
       "  'price': 'US$14.09',\n",
       "  'desktop_short_description': \"Winner of the  FT  & McKinsey Business Book of the Year Award 2020     'Deeply researched and highly entertaining.'   The Times   'Lively and revealing.'   Economist   'Clear-eyed and objective.'   New York Times     The inside story of the how Instagram took over the world.    Drawing on interviews with all the key figures at Instagram,   No...\",\n",
       "  'mobile_short_description': \"Winner of the  FT  & McKinsey Business Book of the Year Award 2020     'Deeply researched and highly...\",\n",
       "  'is_preorder': False,\n",
       "  'is_available': True,\n",
       "  'preorder_url': '/account/preorder/?bookId=209774656',\n",
       "  'add_to_cart_url': '/cart/add/209774656/',\n",
       "  'currency_symbol': 'US$',\n",
       "  'price_number': 14.09},\n",
       " {'id': 95640666,\n",
       "  'book_url': '/en-ma/book/95640666/python-data-science-handbook/jake-vanderplas/',\n",
       "  'image_url': 'https://image.ebooks.com/previews/095/095640/095640666/095640666-sml-1.jpg',\n",
       "  'image_alt_tag': 'Python Data Science Handbook: Essential Tools for Working with Data',\n",
       "  'title': 'Python Data Science Handbook',\n",
       "  'edition': '',\n",
       "  'subtitle': 'Essential Tools for Working with Data',\n",
       "  'authors': [{'author_name': 'Jake VanderPlas',\n",
       "    'author_url': '/en-ma/author/jake-vanderplas/1293677/'}],\n",
       "  'num_authors': 1,\n",
       "  'series': ' Series',\n",
       "  'series_number': '',\n",
       "  'has_series': False,\n",
       "  'series_url': '',\n",
       "  'publisher': \"O'Reilly Media\",\n",
       "  'publication_year': '2016',\n",
       "  'price': 'US$59.99',\n",
       "  'desktop_short_description': 'For many researchers, Python is a first-class tool mainly because of its libraries for storing, manipulating, and gaining insight from data. Several resources exist for individual pieces of this data science stack, but only with the Python Data Science Handbook do you get them all—IPython, NumPy, Pandas, Matplotlib, Scikit-Learn, and other related...',\n",
       "  'mobile_short_description': 'For many researchers, Python is a first-class tool mainly because of its libraries for storing,...',\n",
       "  'is_preorder': False,\n",
       "  'is_available': True,\n",
       "  'preorder_url': '/account/preorder/?bookId=95640666',\n",
       "  'add_to_cart_url': '/cart/add/95640666/',\n",
       "  'currency_symbol': 'US$',\n",
       "  'price_number': 59.99},\n",
       " {'id': 209622672,\n",
       "  'book_url': '/en-ma/book/209622672/data-analyst/rune-rasmussen/',\n",
       "  'image_url': 'https://image.ebooks.com/previews/209/209622/209622672/209622672-sml-1.jpg',\n",
       "  'image_alt_tag': 'Data Analyst: Careers in data analysis',\n",
       "  'title': 'Data Analyst',\n",
       "  'edition': '',\n",
       "  'subtitle': 'Careers in data analysis',\n",
       "  'authors': [{'author_name': 'Rune Rasmussen',\n",
       "    'author_url': '/en-ma/author/rune-rasmussen/208214532/'},\n",
       "   {'author_name': 'Harish Gulati',\n",
       "    'author_url': '/en-ma/author/harish-gulati/208214531/'}],\n",
       "  'num_authors': 6,\n",
       "  'series': ' Series',\n",
       "  'series_number': '',\n",
       "  'has_series': False,\n",
       "  'series_url': '',\n",
       "  'publisher': 'BCS Learning & Development Limited',\n",
       "  'publication_year': '2019',\n",
       "  'price': 'US$25.99',\n",
       "  'desktop_short_description': 'With this book, aspiring data analysts will discover what data analysts do all day, what skills they will need for the role, and what regulations they will be required to adhere to. Practising data analysts can explore useful data analysis tools, methods and techniques, brush up on best practices and look at how they can advance their career.',\n",
       "  'mobile_short_description': 'With this book, aspiring data analysts will discover what data analysts do all day, what skills they...',\n",
       "  'is_preorder': False,\n",
       "  'is_available': True,\n",
       "  'preorder_url': '/account/preorder/?bookId=209622672',\n",
       "  'add_to_cart_url': '/cart/add/209622672/',\n",
       "  'currency_symbol': 'US$',\n",
       "  'price_number': 25.99},\n",
       " {'id': 817871,\n",
       "  'book_url': '/en-ma/book/817871/html-and-css/jon-duckett/',\n",
       "  'image_url': 'https://image.ebooks.com/previews/000/000817/000817871/000817871-sml-1.jpg',\n",
       "  'image_alt_tag': 'HTML and CSS: Design and Build Websites',\n",
       "  'title': 'HTML and CSS',\n",
       "  'edition': '',\n",
       "  'subtitle': 'Design and Build Websites',\n",
       "  'authors': [{'author_name': 'Jon Duckett',\n",
       "    'author_url': '/en-ma/author/jon-duckett/50444/'}],\n",
       "  'num_authors': 1,\n",
       "  'series': ' Series',\n",
       "  'series_number': '',\n",
       "  'has_series': False,\n",
       "  'series_url': '',\n",
       "  'publisher': 'Wiley',\n",
       "  'publication_year': '2011',\n",
       "  'price': 'US$26.50',\n",
       "  'desktop_short_description': 'A full-color introduction to the basics of HTML and CSS!   Every day, more and more people want to learn some HTML and CSS. Joining the professional web designers and programmers are new audiences who need to know a little bit of code at work (update a content management system or e-commerce store) and those who want to make their personal blogs...',\n",
       "  'mobile_short_description': 'A full-color introduction to the basics of HTML and CSS!   Every day, more and more people want to...',\n",
       "  'is_preorder': False,\n",
       "  'is_available': True,\n",
       "  'preorder_url': '/account/preorder/?bookId=817871',\n",
       "  'add_to_cart_url': '/cart/add/817871/',\n",
       "  'currency_symbol': 'US$',\n",
       "  'price_number': 29.99},\n",
       " {'id': 95707582,\n",
       "  'book_url': '/en-ma/book/95707582/introduction-to-data-science/laura-igual/',\n",
       "  'image_url': 'https://image.ebooks.com/previews/095/095707/095707582/095707582-sml-1.jpg',\n",
       "  'image_alt_tag': 'Introduction to Data Science: A Python Approach to Concepts, Techniques and Applications',\n",
       "  'title': 'Introduction to Data Science',\n",
       "  'edition': '',\n",
       "  'subtitle': 'A Python Approach to Concepts, Techniques and Applications',\n",
       "  'authors': [{'author_name': 'Laura Igual',\n",
       "    'author_url': '/en-ma/author/laura-igual/1315722/'},\n",
       "   {'author_name': 'Santi Seguí',\n",
       "    'author_url': '/en-ma/author/santi-seguí/1315723/'}],\n",
       "  'num_authors': 9,\n",
       "  'series': 'Undergraduate Topics In Computer Science Series',\n",
       "  'series_number': '',\n",
       "  'has_series': True,\n",
       "  'series_url': 'https://www.ebooks.com/en-ma/series/undergraduate-topics-in-computer-science/',\n",
       "  'publisher': 'Springer International Publishing',\n",
       "  'publication_year': '2017',\n",
       "  'price': 'US$52.01',\n",
       "  'desktop_short_description': 'This accessible and classroom-tested textbook/reference presents an introduction to the fundamentals of the emerging and interdisciplinary field of data science. The coverage spans key concepts adopted from statistics and machine learning, useful techniques for graph analysis and parallel programming, and the practical application of data science...',\n",
       "  'mobile_short_description': 'This accessible and classroom-tested textbook/reference presents an introduction to the fundamentals...',\n",
       "  'is_preorder': False,\n",
       "  'is_available': True,\n",
       "  'preorder_url': '/account/preorder/?bookId=95707582',\n",
       "  'add_to_cart_url': '/cart/add/95707582/',\n",
       "  'currency_symbol': 'US$',\n",
       "  'price_number': 52.0142887},\n",
       " {'id': 1895068,\n",
       "  'book_url': '/en-ma/book/1895068/patterns-principles-and-practices-of-domain-driven-design/scott-millett/',\n",
       "  'image_url': 'https://image.ebooks.com/previews/001/001895/001895068/001895068-sml-1.jpg',\n",
       "  'image_alt_tag': 'Patterns, Principles, and Practices of Domain-Driven Design',\n",
       "  'title': 'Patterns, Principles, and Practices of Domain-Driven Design',\n",
       "  'edition': '',\n",
       "  'subtitle': '',\n",
       "  'authors': [{'author_name': 'Scott Millett',\n",
       "    'author_url': '/en-ma/author/scott-millett/195586/'},\n",
       "   {'author_name': 'Nick Tune',\n",
       "    'author_url': '/en-ma/author/nick-tune/937971/'}],\n",
       "  'num_authors': 2,\n",
       "  'series': ' Series',\n",
       "  'series_number': '',\n",
       "  'has_series': False,\n",
       "  'series_url': '',\n",
       "  'publisher': 'Wiley',\n",
       "  'publication_year': '2015',\n",
       "  'price': 'US$52.99',\n",
       "  'desktop_short_description': 'Methods for managing complex software construction following the practices, principles and patterns of Domain-Driven Design with code examples in C#     This book presents the philosophy of Domain-Driven Design (DDD) in a down-to-earth and practical manner for experienced developers building applications for complex domains. A focus is placed on...',\n",
       "  'mobile_short_description': 'Methods for managing complex software construction following the practices, principles and patterns...',\n",
       "  'is_preorder': False,\n",
       "  'is_available': True,\n",
       "  'preorder_url': '/account/preorder/?bookId=1895068',\n",
       "  'add_to_cart_url': '/cart/add/1895068/',\n",
       "  'currency_symbol': 'US$',\n",
       "  'price_number': 59.99}]"
      ]
     },
     "execution_count": 8,
     "metadata": {},
     "output_type": "execute_result"
    }
   ],
   "source": [
    "response.json()['books']"
   ]
  },
  {
   "cell_type": "code",
   "execution_count": 10,
   "metadata": {},
   "outputs": [
    {
     "data": {
      "text/plain": [
       "10"
      ]
     },
     "execution_count": 10,
     "metadata": {},
     "output_type": "execute_result"
    }
   ],
   "source": [
    "len(response.json()['books'])"
   ]
  },
  {
   "cell_type": "code",
   "execution_count": 11,
   "metadata": {},
   "outputs": [],
   "source": [
    "results_json=response.json()['books']"
   ]
  },
  {
   "cell_type": "code",
   "execution_count": null,
   "metadata": {},
   "outputs": [],
   "source": []
  },
  {
   "cell_type": "code",
   "execution_count": 17,
   "metadata": {},
   "outputs": [
    {
     "data": {
      "text/plain": [
       "'The Dragonfly Effect'"
      ]
     },
     "execution_count": 17,
     "metadata": {},
     "output_type": "execute_result"
    }
   ],
   "source": [
    "#title\n",
    "result_json[0]['title']\n"
   ]
  },
  {
   "cell_type": "code",
   "execution_count": 18,
   "metadata": {},
   "outputs": [
    {
     "data": {
      "text/plain": [
       "'Quick, Effective, and Powerful Ways To Use Social Media to Drive Social Change'"
      ]
     },
     "execution_count": 18,
     "metadata": {},
     "output_type": "execute_result"
    }
   ],
   "source": [
    "#subtitle\n",
    "result_json[0]['subtitle']\n"
   ]
  },
  {
   "cell_type": "code",
   "execution_count": 22,
   "metadata": {},
   "outputs": [
    {
     "data": {
      "text/plain": [
       "'Jennifer Aaker'"
      ]
     },
     "execution_count": 22,
     "metadata": {},
     "output_type": "execute_result"
    }
   ],
   "source": [
    "#author\n",
    "result_json[0]['authors'][0]['author_name']\n"
   ]
  },
  {
   "cell_type": "code",
   "execution_count": 23,
   "metadata": {},
   "outputs": [
    {
     "data": {
      "text/plain": [
       "'Wiley'"
      ]
     },
     "execution_count": 23,
     "metadata": {},
     "output_type": "execute_result"
    }
   ],
   "source": [
    "#publisher\n",
    "result_json[0]['publisher']"
   ]
  },
  {
   "cell_type": "code",
   "execution_count": 24,
   "metadata": {},
   "outputs": [
    {
     "data": {
      "text/plain": [
       "'2010'"
      ]
     },
     "execution_count": 24,
     "metadata": {},
     "output_type": "execute_result"
    }
   ],
   "source": [
    "#publication_year\n",
    "result_json[0]['publication_year']"
   ]
  },
  {
   "cell_type": "code",
   "execution_count": 25,
   "metadata": {},
   "outputs": [
    {
     "data": {
      "text/plain": [
       "'US$22.99'"
      ]
     },
     "execution_count": 25,
     "metadata": {},
     "output_type": "execute_result"
    }
   ],
   "source": [
    "#price\n",
    "result_json[0]['price']"
   ]
  },
  {
   "cell_type": "markdown",
   "metadata": {},
   "source": [
    "#### Step 7 - Put everything together - Loop through results and append data inside a list"
   ]
  },
  {
   "cell_type": "code",
   "execution_count": 44,
   "metadata": {},
   "outputs": [],
   "source": [
    "title=[]\n",
    "subtitle=[]\n",
    "author=[]\n",
    "publisher=[]\n",
    "publication_year=[]\n",
    "price=[]\n",
    "for result in result_json:\n",
    "    #title\n",
    "    title.append(result['title'])\n",
    "    #subtitle\n",
    "    subtitle.append(result['subtitle'])\n",
    "    #author\n",
    "    author.append(result['authors'][0]['author_name'])\n",
    "    #publisher\n",
    "    publisher.append(result['publisher'])\n",
    "    #publication_year\n",
    "    publication_year.append(result['publication_year'])\n",
    "    #price\n",
    "    price.append(result['price'])\n",
    "\n",
    "    "
   ]
  },
  {
   "cell_type": "code",
   "execution_count": 36,
   "metadata": {},
   "outputs": [
    {
     "data": {
      "text/plain": [
       "10"
      ]
     },
     "execution_count": 36,
     "metadata": {},
     "output_type": "execute_result"
    }
   ],
   "source": [
    "len(title)"
   ]
  },
  {
   "cell_type": "code",
   "execution_count": 35,
   "metadata": {},
   "outputs": [
    {
     "data": {
      "text/plain": [
       "['The Dragonfly Effect',\n",
       " 'CompTIA Security+ SY0-601 Exam Cram',\n",
       " 'Effective SEO and Content Marketing',\n",
       " 'Modern Recording Techniques',\n",
       " 'No Filter',\n",
       " 'Python Data Science Handbook',\n",
       " 'Data Analyst',\n",
       " 'HTML and CSS',\n",
       " 'Introduction to Data Science',\n",
       " 'Patterns, Principles, and Practices of Domain-Driven Design']"
      ]
     },
     "execution_count": 35,
     "metadata": {},
     "output_type": "execute_result"
    }
   ],
   "source": [
    "title"
   ]
  },
  {
   "cell_type": "code",
   "execution_count": 37,
   "metadata": {},
   "outputs": [
    {
     "data": {
      "text/plain": [
       "['Quick, Effective, and Powerful Ways To Use Social Media to Drive Social Change',\n",
       " '',\n",
       " 'The Ultimate Guide for Maximizing Free Web Traffic',\n",
       " '',\n",
       " 'The Inside Story of Instagram – Winner of the FT Business Book of the Year Award',\n",
       " 'Essential Tools for Working with Data',\n",
       " 'Careers in data analysis',\n",
       " 'Design and Build Websites',\n",
       " 'A Python Approach to Concepts, Techniques and Applications',\n",
       " '']"
      ]
     },
     "execution_count": 37,
     "metadata": {},
     "output_type": "execute_result"
    }
   ],
   "source": [
    "subtitle\n"
   ]
  },
  {
   "cell_type": "code",
   "execution_count": 38,
   "metadata": {},
   "outputs": [
    {
     "data": {
      "text/plain": [
       "['Jennifer Aaker',\n",
       " 'Martin M. Weiss',\n",
       " 'Nicholas Papagiannis',\n",
       " 'David Miles Huber',\n",
       " 'Sarah Frier',\n",
       " 'Jake VanderPlas',\n",
       " 'Rune Rasmussen',\n",
       " 'Jon Duckett',\n",
       " 'Laura Igual',\n",
       " 'Scott Millett']"
      ]
     },
     "execution_count": 38,
     "metadata": {},
     "output_type": "execute_result"
    }
   ],
   "source": [
    "author\n"
   ]
  },
  {
   "cell_type": "code",
   "execution_count": 39,
   "metadata": {},
   "outputs": [
    {
     "data": {
      "text/plain": [
       "['2010',\n",
       " '2020',\n",
       " '2020',\n",
       " '2017',\n",
       " '2020',\n",
       " '2016',\n",
       " '2019',\n",
       " '2011',\n",
       " '2017',\n",
       " '2015']"
      ]
     },
     "execution_count": 39,
     "metadata": {},
     "output_type": "execute_result"
    }
   ],
   "source": [
    "publication_year\n"
   ]
  },
  {
   "cell_type": "code",
   "execution_count": 40,
   "metadata": {},
   "outputs": [
    {
     "data": {
      "text/plain": [
       "['US$22.99',\n",
       " 'US$35.99',\n",
       " 'US$39.50',\n",
       " 'US$52.57',\n",
       " 'US$14.09',\n",
       " 'US$59.99',\n",
       " 'US$25.99',\n",
       " 'US$26.50',\n",
       " 'US$52.01',\n",
       " 'US$52.99']"
      ]
     },
     "execution_count": 40,
     "metadata": {},
     "output_type": "execute_result"
    }
   ],
   "source": [
    "price"
   ]
  },
  {
   "cell_type": "markdown",
   "metadata": {},
   "source": [
    "#### Step 8 - Pandas Dataframe"
   ]
  },
  {
   "cell_type": "code",
   "execution_count": 50,
   "metadata": {},
   "outputs": [],
   "source": [
    "books_df= pd.DataFrame({'Title':title,'Subtitle':subtitle,'Author':author,'Publisher':publisher,'Publication Year':publication_year,'Price':price})"
   ]
  },
  {
   "cell_type": "code",
   "execution_count": 51,
   "metadata": {},
   "outputs": [
    {
     "data": {
      "text/html": [
       "<div>\n",
       "<style scoped>\n",
       "    .dataframe tbody tr th:only-of-type {\n",
       "        vertical-align: middle;\n",
       "    }\n",
       "\n",
       "    .dataframe tbody tr th {\n",
       "        vertical-align: top;\n",
       "    }\n",
       "\n",
       "    .dataframe thead th {\n",
       "        text-align: right;\n",
       "    }\n",
       "</style>\n",
       "<table border=\"1\" class=\"dataframe\">\n",
       "  <thead>\n",
       "    <tr style=\"text-align: right;\">\n",
       "      <th></th>\n",
       "      <th>Title</th>\n",
       "      <th>Subtitle</th>\n",
       "      <th>Author</th>\n",
       "      <th>Publisher</th>\n",
       "      <th>Publication Year</th>\n",
       "      <th>Price</th>\n",
       "    </tr>\n",
       "  </thead>\n",
       "  <tbody>\n",
       "    <tr>\n",
       "      <th>0</th>\n",
       "      <td>The Dragonfly Effect</td>\n",
       "      <td>Quick, Effective, and Powerful Ways To Use Soc...</td>\n",
       "      <td>Jennifer Aaker</td>\n",
       "      <td>Wiley</td>\n",
       "      <td>2010</td>\n",
       "      <td>US$22.99</td>\n",
       "    </tr>\n",
       "    <tr>\n",
       "      <th>1</th>\n",
       "      <td>CompTIA Security+ SY0-601 Exam Cram</td>\n",
       "      <td></td>\n",
       "      <td>Martin M. Weiss</td>\n",
       "      <td>Pearson Education</td>\n",
       "      <td>2020</td>\n",
       "      <td>US$35.99</td>\n",
       "    </tr>\n",
       "    <tr>\n",
       "      <th>2</th>\n",
       "      <td>Effective SEO and Content Marketing</td>\n",
       "      <td>The Ultimate Guide for Maximizing Free Web Tra...</td>\n",
       "      <td>Nicholas Papagiannis</td>\n",
       "      <td>Wiley</td>\n",
       "      <td>2020</td>\n",
       "      <td>US$39.50</td>\n",
       "    </tr>\n",
       "    <tr>\n",
       "      <th>3</th>\n",
       "      <td>Modern Recording Techniques</td>\n",
       "      <td></td>\n",
       "      <td>David Miles Huber</td>\n",
       "      <td>Taylor and Francis</td>\n",
       "      <td>2017</td>\n",
       "      <td>US$52.57</td>\n",
       "    </tr>\n",
       "    <tr>\n",
       "      <th>4</th>\n",
       "      <td>No Filter</td>\n",
       "      <td>The Inside Story of Instagram – Winner of the ...</td>\n",
       "      <td>Sarah Frier</td>\n",
       "      <td>Random House</td>\n",
       "      <td>2020</td>\n",
       "      <td>US$14.09</td>\n",
       "    </tr>\n",
       "    <tr>\n",
       "      <th>5</th>\n",
       "      <td>Python Data Science Handbook</td>\n",
       "      <td>Essential Tools for Working with Data</td>\n",
       "      <td>Jake VanderPlas</td>\n",
       "      <td>O'Reilly Media</td>\n",
       "      <td>2016</td>\n",
       "      <td>US$59.99</td>\n",
       "    </tr>\n",
       "    <tr>\n",
       "      <th>6</th>\n",
       "      <td>Data Analyst</td>\n",
       "      <td>Careers in data analysis</td>\n",
       "      <td>Rune Rasmussen</td>\n",
       "      <td>BCS Learning &amp; Development Limited</td>\n",
       "      <td>2019</td>\n",
       "      <td>US$25.99</td>\n",
       "    </tr>\n",
       "    <tr>\n",
       "      <th>7</th>\n",
       "      <td>HTML and CSS</td>\n",
       "      <td>Design and Build Websites</td>\n",
       "      <td>Jon Duckett</td>\n",
       "      <td>Wiley</td>\n",
       "      <td>2011</td>\n",
       "      <td>US$26.50</td>\n",
       "    </tr>\n",
       "    <tr>\n",
       "      <th>8</th>\n",
       "      <td>Introduction to Data Science</td>\n",
       "      <td>A Python Approach to Concepts, Techniques and ...</td>\n",
       "      <td>Laura Igual</td>\n",
       "      <td>Springer International Publishing</td>\n",
       "      <td>2017</td>\n",
       "      <td>US$52.01</td>\n",
       "    </tr>\n",
       "    <tr>\n",
       "      <th>9</th>\n",
       "      <td>Patterns, Principles, and Practices of Domain-...</td>\n",
       "      <td></td>\n",
       "      <td>Scott Millett</td>\n",
       "      <td>Wiley</td>\n",
       "      <td>2015</td>\n",
       "      <td>US$52.99</td>\n",
       "    </tr>\n",
       "  </tbody>\n",
       "</table>\n",
       "</div>"
      ],
      "text/plain": [
       "                                               Title  \\\n",
       "0                               The Dragonfly Effect   \n",
       "1                CompTIA Security+ SY0-601 Exam Cram   \n",
       "2                Effective SEO and Content Marketing   \n",
       "3                        Modern Recording Techniques   \n",
       "4                                          No Filter   \n",
       "5                       Python Data Science Handbook   \n",
       "6                                       Data Analyst   \n",
       "7                                       HTML and CSS   \n",
       "8                       Introduction to Data Science   \n",
       "9  Patterns, Principles, and Practices of Domain-...   \n",
       "\n",
       "                                            Subtitle                Author  \\\n",
       "0  Quick, Effective, and Powerful Ways To Use Soc...        Jennifer Aaker   \n",
       "1                                                          Martin M. Weiss   \n",
       "2  The Ultimate Guide for Maximizing Free Web Tra...  Nicholas Papagiannis   \n",
       "3                                                        David Miles Huber   \n",
       "4  The Inside Story of Instagram – Winner of the ...           Sarah Frier   \n",
       "5              Essential Tools for Working with Data       Jake VanderPlas   \n",
       "6                           Careers in data analysis        Rune Rasmussen   \n",
       "7                          Design and Build Websites           Jon Duckett   \n",
       "8  A Python Approach to Concepts, Techniques and ...           Laura Igual   \n",
       "9                                                            Scott Millett   \n",
       "\n",
       "                            Publisher Publication Year     Price  \n",
       "0                               Wiley             2010  US$22.99  \n",
       "1                   Pearson Education             2020  US$35.99  \n",
       "2                               Wiley             2020  US$39.50  \n",
       "3                  Taylor and Francis             2017  US$52.57  \n",
       "4                        Random House             2020  US$14.09  \n",
       "5                      O'Reilly Media             2016  US$59.99  \n",
       "6  BCS Learning & Development Limited             2019  US$25.99  \n",
       "7                               Wiley             2011  US$26.50  \n",
       "8   Springer International Publishing             2017  US$52.01  \n",
       "9                               Wiley             2015  US$52.99  "
      ]
     },
     "execution_count": 51,
     "metadata": {},
     "output_type": "execute_result"
    }
   ],
   "source": [
    "books_df"
   ]
  },
  {
   "cell_type": "code",
   "execution_count": null,
   "metadata": {},
   "outputs": [],
   "source": []
  },
  {
   "cell_type": "markdown",
   "metadata": {},
   "source": [
    "#### Step 9 - Store results in Excel"
   ]
  },
  {
   "cell_type": "code",
   "execution_count": 55,
   "metadata": {},
   "outputs": [],
   "source": [
    "books_df.to_excel('books.xlsx', index=False)"
   ]
  },
  {
   "cell_type": "code",
   "execution_count": null,
   "metadata": {},
   "outputs": [],
   "source": []
  },
  {
   "cell_type": "code",
   "execution_count": null,
   "metadata": {},
   "outputs": [],
   "source": []
  }
 ],
 "metadata": {
  "kernelspec": {
   "display_name": "Python 3 (ipykernel)",
   "language": "python",
   "name": "python3"
  },
  "language_info": {
   "codemirror_mode": {
    "name": "ipython",
    "version": 3
   },
   "file_extension": ".py",
   "mimetype": "text/x-python",
   "name": "python",
   "nbconvert_exporter": "python",
   "pygments_lexer": "ipython3",
   "version": "3.10.0"
  }
 },
 "nbformat": 4,
 "nbformat_minor": 4
}
